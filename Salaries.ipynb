{
 "cells": [
  {
   "cell_type": "code",
   "execution_count": 6,
   "metadata": {},
   "outputs": [
    {
     "name": "stderr",
     "output_type": "stream",
     "text": [
      "/Users/ionabuchanan/anaconda/lib/python3.6/site-packages/statsmodels/compat/pandas.py:56: FutureWarning:\n",
      "\n",
      "The pandas.core.datetools module is deprecated and will be removed in a future version. Please use the pandas.tseries module instead.\n",
      "\n"
     ]
    }
   ],
   "source": [
    "import plotly\n",
    "import plotly.plotly as py\n",
    "import plotly.graph_objs as go\n",
    "plotly.tools.set_credentials_file(username='ionab10', api_key='p0Yc6QqxNIWci9j3lUpD')\n",
    "\n",
    "from collections import Counter\n",
    "import statsmodels.api as sm\n",
    "import statsmodels.genmod.families.links as links\n",
    "\n",
    "from scipy.stats import poisson\n",
    "\n",
    "from math import log,exp,factorial\n",
    "import pandas as pd\n",
    "from numpy import mean"
   ]
  },
  {
   "cell_type": "code",
   "execution_count": 111,
   "metadata": {},
   "outputs": [
    {
     "data": {
      "text/html": [
       "<div>\n",
       "<style>\n",
       "    .dataframe thead tr:only-child th {\n",
       "        text-align: right;\n",
       "    }\n",
       "\n",
       "    .dataframe thead th {\n",
       "        text-align: left;\n",
       "    }\n",
       "\n",
       "    .dataframe tbody tr th {\n",
       "        vertical-align: top;\n",
       "    }\n",
       "</style>\n",
       "<table border=\"1\" class=\"dataframe\">\n",
       "  <thead>\n",
       "    <tr style=\"text-align: right;\">\n",
       "      <th></th>\n",
       "      <th>Pos</th>\n",
       "      <th>Cap Hit</th>\n",
       "    </tr>\n",
       "    <tr>\n",
       "      <th>Player</th>\n",
       "      <th></th>\n",
       "      <th></th>\n",
       "    </tr>\n",
       "  </thead>\n",
       "  <tbody>\n",
       "    <tr>\n",
       "      <th>Kirk Cousins</th>\n",
       "      <td>QB</td>\n",
       "      <td>$23,943,600</td>\n",
       "    </tr>\n",
       "    <tr>\n",
       "      <th>Trumaine Johnson</th>\n",
       "      <td>CB</td>\n",
       "      <td>$16,742,400</td>\n",
       "    </tr>\n",
       "    <tr>\n",
       "      <th>Von Miller</th>\n",
       "      <td>LB</td>\n",
       "      <td>$16,500,000</td>\n",
       "    </tr>\n",
       "    <tr>\n",
       "      <th>Josh Norman</th>\n",
       "      <td>CB</td>\n",
       "      <td>$16,500,000</td>\n",
       "    </tr>\n",
       "    <tr>\n",
       "      <th>Justin Houston</th>\n",
       "      <td>LB</td>\n",
       "      <td>$16,350,000</td>\n",
       "    </tr>\n",
       "  </tbody>\n",
       "</table>\n",
       "</div>"
      ],
      "text/plain": [
       "                 Pos       Cap Hit\n",
       "Player                            \n",
       "Kirk Cousins      QB  $23,943,600 \n",
       "Trumaine Johnson  CB  $16,742,400 \n",
       "Von Miller        LB  $16,500,000 \n",
       "Josh Norman       CB  $16,500,000 \n",
       "Justin Houston    LB  $16,350,000 "
      ]
     },
     "execution_count": 111,
     "metadata": {},
     "output_type": "execute_result"
    }
   ],
   "source": [
    "temp=pd.read_csv('./temp.csv')\n",
    "temp.dropna(how='any',inplace=True)\n",
    "#temp['NAME']=[name.split(',')[0] for name in temp['NAME']]\n",
    "temp.set_index('Player',inplace=True)\n",
    "temp.head()"
   ]
  },
  {
   "cell_type": "code",
   "execution_count": 46,
   "metadata": {
    "collapsed": true
   },
   "outputs": [],
   "source": [
    "def LastFirst2FirstLast(name):\n",
    "    name=name.split(', ')\n",
    "    name=name[1]+' '+name[0]\n",
    "    return name\n",
    "\n",
    "def DOB2Age(dob):\n",
    "    yob=str(dob).split('/')[-1]\n",
    "    try:\n",
    "        return 2017-int(yob)\n",
    "    except:\n",
    "        return None"
   ]
  },
  {
   "cell_type": "code",
   "execution_count": 112,
   "metadata": {
    "collapsed": true
   },
   "outputs": [],
   "source": [
    "def salary(name):\n",
    "    try:\n",
    "        return temp.loc[name]['Cap Hit']\n",
    "    except:\n",
    "        return None"
   ]
  },
  {
   "cell_type": "code",
   "execution_count": 105,
   "metadata": {
    "collapsed": true
   },
   "outputs": [],
   "source": [
    "def ft2inches(height):\n",
    "    if type(height)==float:\n",
    "        h=height\n",
    "    elif '-' in height:\n",
    "        h=height.split('-')\n",
    "        h=int(h[0])*12+int(h[1])\n",
    "    elif '\\'' in height:\n",
    "        h=height.split('\\'')\n",
    "        h=int(h[0])*12+int(h[1][:-1])\n",
    "    return h"
   ]
  },
  {
   "cell_type": "code",
   "execution_count": 113,
   "metadata": {},
   "outputs": [
    {
     "data": {
      "text/html": [
       "<div>\n",
       "<style>\n",
       "    .dataframe thead tr:only-child th {\n",
       "        text-align: right;\n",
       "    }\n",
       "\n",
       "    .dataframe thead th {\n",
       "        text-align: left;\n",
       "    }\n",
       "\n",
       "    .dataframe tbody tr th {\n",
       "        vertical-align: top;\n",
       "    }\n",
       "</style>\n",
       "<table border=\"1\" class=\"dataframe\">\n",
       "  <thead>\n",
       "    <tr style=\"text-align: right;\">\n",
       "      <th></th>\n",
       "      <th>Name</th>\n",
       "      <th>Position</th>\n",
       "      <th>Age</th>\n",
       "      <th>Height</th>\n",
       "      <th>Weight</th>\n",
       "      <th>Experience</th>\n",
       "      <th>Salary</th>\n",
       "    </tr>\n",
       "  </thead>\n",
       "  <tbody>\n",
       "    <tr>\n",
       "      <th>0</th>\n",
       "      <td>A.J. Bouye</td>\n",
       "      <td>CB</td>\n",
       "      <td>26</td>\n",
       "      <td>72.0</td>\n",
       "      <td>191.0</td>\n",
       "      <td>5</td>\n",
       "      <td>$3,000,000</td>\n",
       "    </tr>\n",
       "    <tr>\n",
       "      <th>1</th>\n",
       "      <td>A.J. Cann</td>\n",
       "      <td>G</td>\n",
       "      <td>26</td>\n",
       "      <td>75.0</td>\n",
       "      <td>325.0</td>\n",
       "      <td>3</td>\n",
       "      <td>$721,000</td>\n",
       "    </tr>\n",
       "    <tr>\n",
       "      <th>2</th>\n",
       "      <td>A.J. Francis</td>\n",
       "      <td>DT</td>\n",
       "      <td>27</td>\n",
       "      <td>77.0</td>\n",
       "      <td>337.0</td>\n",
       "      <td>2</td>\n",
       "      <td>$397,936</td>\n",
       "    </tr>\n",
       "    <tr>\n",
       "      <th>3</th>\n",
       "      <td>A.J. Francis</td>\n",
       "      <td>DT</td>\n",
       "      <td>27</td>\n",
       "      <td>77.0</td>\n",
       "      <td>337.0</td>\n",
       "      <td>2</td>\n",
       "      <td>$397,936</td>\n",
       "    </tr>\n",
       "    <tr>\n",
       "      <th>4</th>\n",
       "      <td>A.J. Green</td>\n",
       "      <td>WR</td>\n",
       "      <td>29</td>\n",
       "      <td>76.0</td>\n",
       "      <td>210.0</td>\n",
       "      <td>7</td>\n",
       "      <td>$10,300,000</td>\n",
       "    </tr>\n",
       "  </tbody>\n",
       "</table>\n",
       "</div>"
      ],
      "text/plain": [
       "           Name Position Age  Height  Weight Experience        Salary\n",
       "0    A.J. Bouye       CB  26    72.0   191.0          5   $3,000,000 \n",
       "1     A.J. Cann        G  26    75.0   325.0          3     $721,000 \n",
       "2  A.J. Francis       DT  27    77.0   337.0          2     $397,936 \n",
       "3  A.J. Francis       DT  27    77.0   337.0          2     $397,936 \n",
       "4    A.J. Green       WR  29    76.0   210.0          7  $10,300,000 "
      ]
     },
     "execution_count": 113,
     "metadata": {},
     "output_type": "execute_result"
    }
   ],
   "source": [
    "temp1=pd.read_csv('./temp2.csv',header=None,names=['Name','Position','Age','Height','Weight','Experience'])\n",
    "#temp1['Name']=[LastFirst2FirstLast(name) for name in temp1['Name']]\n",
    "#temp1['Age']=[DOB2Age(dob) for dob in temp1['DOB']]\n",
    "temp1['Height']=[ft2inches(h) for h in temp1['Height']]\n",
    "temp1['Salary']=[salary(name) for name in temp1['Name']]\n",
    "temp1.dropna(how='any',inplace=True)\n",
    "temp1.to_csv('./temp3.csv')\n",
    "temp1.head()\n",
    "\n"
   ]
  },
  {
   "cell_type": "code",
   "execution_count": 7,
   "metadata": {},
   "outputs": [
    {
     "data": {
      "text/html": [
       "<div>\n",
       "<style>\n",
       "    .dataframe thead tr:only-child th {\n",
       "        text-align: right;\n",
       "    }\n",
       "\n",
       "    .dataframe thead th {\n",
       "        text-align: left;\n",
       "    }\n",
       "\n",
       "    .dataframe tbody tr th {\n",
       "        vertical-align: top;\n",
       "    }\n",
       "</style>\n",
       "<table border=\"1\" class=\"dataframe\">\n",
       "  <thead>\n",
       "    <tr style=\"text-align: right;\">\n",
       "      <th></th>\n",
       "      <th></th>\n",
       "      <th>Position</th>\n",
       "      <th>Age</th>\n",
       "      <th>Height</th>\n",
       "      <th>Weight</th>\n",
       "      <th>Salary</th>\n",
       "    </tr>\n",
       "    <tr>\n",
       "      <th>League</th>\n",
       "      <th>Name</th>\n",
       "      <th></th>\n",
       "      <th></th>\n",
       "      <th></th>\n",
       "      <th></th>\n",
       "      <th></th>\n",
       "    </tr>\n",
       "  </thead>\n",
       "  <tbody>\n",
       "    <tr>\n",
       "      <th rowspan=\"5\" valign=\"top\">MLB</th>\n",
       "      <th>Aaron Hicks</th>\n",
       "      <td>CF</td>\n",
       "      <td>28</td>\n",
       "      <td>73</td>\n",
       "      <td>202</td>\n",
       "      <td>$1,350,000.00</td>\n",
       "    </tr>\n",
       "    <tr>\n",
       "      <th>Aaron Judge</th>\n",
       "      <td>RF</td>\n",
       "      <td>25</td>\n",
       "      <td>79</td>\n",
       "      <td>282</td>\n",
       "      <td>$544,500.00</td>\n",
       "    </tr>\n",
       "    <tr>\n",
       "      <th>Adam Jones</th>\n",
       "      <td>CF</td>\n",
       "      <td>32</td>\n",
       "      <td>74</td>\n",
       "      <td>215</td>\n",
       "      <td>$16,329,674.00</td>\n",
       "    </tr>\n",
       "    <tr>\n",
       "      <th>Adam Liberatore</th>\n",
       "      <td>RP</td>\n",
       "      <td>30</td>\n",
       "      <td>75</td>\n",
       "      <td>240</td>\n",
       "      <td>$535,000.00</td>\n",
       "    </tr>\n",
       "    <tr>\n",
       "      <th>Adam Warren</th>\n",
       "      <td>RP</td>\n",
       "      <td>30</td>\n",
       "      <td>73</td>\n",
       "      <td>224</td>\n",
       "      <td>$2,290,000.00</td>\n",
       "    </tr>\n",
       "  </tbody>\n",
       "</table>\n",
       "</div>"
      ],
      "text/plain": [
       "                       Position  Age  Height  Weight           Salary\n",
       "League Name                                                          \n",
       "MLB    Aaron Hicks           CF   28      73     202   $1,350,000.00 \n",
       "       Aaron Judge           RF   25      79     282     $544,500.00 \n",
       "       Adam Jones            CF   32      74     215  $16,329,674.00 \n",
       "       Adam Liberatore       RP   30      75     240     $535,000.00 \n",
       "       Adam Warren           RP   30      73     224   $2,290,000.00 "
      ]
     },
     "execution_count": 7,
     "metadata": {},
     "output_type": "execute_result"
    }
   ],
   "source": [
    "salaries=pd.read_csv('./salaries.csv')\n",
    "salaries.dropna(how='any',inplace=True)\n",
    "leagues=list(set(salaries['League']))\n",
    "salaries.set_index(['League','Name'],inplace=True)\n",
    "salaries.head()"
   ]
  },
  {
   "cell_type": "code",
   "execution_count": 8,
   "metadata": {},
   "outputs": [
    {
     "data": {
      "text/plain": [
       "Counter({'C': 64,\n",
       "         'CB': 181,\n",
       "         'DB': 7,\n",
       "         'DE': 129,\n",
       "         'DT': 130,\n",
       "         'FB': 18,\n",
       "         'G': 103,\n",
       "         'LB': 266,\n",
       "         'LS': 33,\n",
       "         'NT': 6,\n",
       "         'OL': 1,\n",
       "         'OT': 127,\n",
       "         'P': 32,\n",
       "         'PK': 36,\n",
       "         'QB': 69,\n",
       "         'RB': 137,\n",
       "         'S': 147,\n",
       "         'TE': 122,\n",
       "         'WR': 190})"
      ]
     },
     "execution_count": 8,
     "metadata": {},
     "output_type": "execute_result"
    }
   ],
   "source": [
    "Counter(salaries.loc['NFL']['Position'])"
   ]
  },
  {
   "cell_type": "code",
   "execution_count": 15,
   "metadata": {
    "collapsed": true
   },
   "outputs": [],
   "source": [
    "lineups={'Offense': {'QB','RB','FB','WR','TE','C','G','OT'},\n",
    "         'Defense': {'DE','DT','NT','LB','CB','S'},\n",
    "         'Special':{'PK','P','LS'}\n",
    "        }"
   ]
  },
  {
   "cell_type": "code",
   "execution_count": 19,
   "metadata": {},
   "outputs": [
    {
     "data": {
      "text/html": [
       "<iframe id=\"igraph\" scrolling=\"no\" style=\"border:none;\" seamless=\"seamless\" src=\"https://plot.ly/~ionab10/12.embed\" height=\"525px\" width=\"100%\"></iframe>"
      ],
      "text/plain": [
       "<plotly.tools.PlotlyDisplay object>"
      ]
     },
     "execution_count": 19,
     "metadata": {},
     "output_type": "execute_result"
    }
   ],
   "source": [
    "data=[]\n",
    "for league in leagues:\n",
    "    #if league == 'NFL':\n",
    "    if False:\n",
    "        for lineup,positions in lineups.items():\n",
    "            height=go.Scatter(\n",
    "                x = salaries.loc[league].query('Position in @positions')['Height'],\n",
    "                y = salaries.loc[league].query('Position in @positions')['Salary'],\n",
    "                mode = 'markers',\n",
    "                name = league + ' - ' + lineup\n",
    "            )\n",
    "            data.append(height)\n",
    "    else:\n",
    "        height=go.Scatter(\n",
    "            x = salaries.loc[league]['Height'],\n",
    "            y = salaries.loc[league]['Salary'],\n",
    "            mode = 'markers',\n",
    "            name = league\n",
    "        )\n",
    "        data.append(height)\n",
    "\n",
    "#updatemenus=None\n",
    "\n",
    "layout=go.Layout(\n",
    "    title='Salaries vs Height',\n",
    "    xaxis=dict(title='Height'),\n",
    "    yaxis=dict(title='Salary'),\n",
    "    #updatemenus=updatemenus\n",
    ")\n",
    "\n",
    "fig=go.Figure(data=data,layout=layout)\n",
    "\n",
    "# Plot and embed in ipython notebook!\n",
    "py.iplot(fig, filename='Salaries vs Height')"
   ]
  },
  {
   "cell_type": "code",
   "execution_count": 134,
   "metadata": {},
   "outputs": [
    {
     "data": {
      "text/html": [
       "<iframe id=\"igraph\" scrolling=\"no\" style=\"border:none;\" seamless=\"seamless\" src=\"https://plot.ly/~ionab10/14.embed\" height=\"525px\" width=\"100%\"></iframe>"
      ],
      "text/plain": [
       "<plotly.tools.PlotlyDisplay object>"
      ]
     },
     "execution_count": 134,
     "metadata": {},
     "output_type": "execute_result"
    }
   ],
   "source": [
    "data=[]\n",
    "for league in leagues:\n",
    "    height=go.Scatter(\n",
    "        x = salaries.loc[league]['Weight'],\n",
    "        y = salaries.loc[league]['Salary'],\n",
    "        mode = 'markers',\n",
    "        name = league\n",
    "    )\n",
    "    data.append(height)\n",
    "    \n",
    "layout=go.Layout(\n",
    "    title='Salaries vs Weight',\n",
    "    xaxis=dict(title='Weight'),\n",
    "    yaxis=dict(title='Salary')\n",
    ")\n",
    "\n",
    "fig=go.Figure(data=data,layout=layout)\n",
    "\n",
    "# Plot and embed in ipython notebook!\n",
    "py.iplot(fig, filename='Salaries vs Weight')"
   ]
  },
  {
   "cell_type": "code",
   "execution_count": 135,
   "metadata": {},
   "outputs": [
    {
     "data": {
      "text/html": [
       "<iframe id=\"igraph\" scrolling=\"no\" style=\"border:none;\" seamless=\"seamless\" src=\"https://plot.ly/~ionab10/16.embed\" height=\"525px\" width=\"100%\"></iframe>"
      ],
      "text/plain": [
       "<plotly.tools.PlotlyDisplay object>"
      ]
     },
     "execution_count": 135,
     "metadata": {},
     "output_type": "execute_result"
    }
   ],
   "source": [
    "data=[]\n",
    "for league in leagues:\n",
    "    height=go.Scatter(\n",
    "        x = salaries.loc[league]['Age'],\n",
    "        y = salaries.loc[league]['Salary'],\n",
    "        mode = 'markers',\n",
    "        name = league\n",
    "    )\n",
    "    data.append(height)\n",
    "    \n",
    "layout=go.Layout(\n",
    "    title='Salaries vs Age',\n",
    "    xaxis=dict(title='Age'),\n",
    "    yaxis=dict(title='Salary')\n",
    ")\n",
    "\n",
    "fig=go.Figure(data=data,layout=layout)\n",
    "\n",
    "# Plot and embed in ipython notebook!\n",
    "py.iplot(fig, filename='Salaries vs Age')"
   ]
  },
  {
   "cell_type": "markdown",
   "metadata": {},
   "source": [
    "Sources: ESPN, NBA.com, FOX Sports, NFL.com,pro-football-reference.com"
   ]
  },
  {
   "cell_type": "code",
   "execution_count": null,
   "metadata": {
    "collapsed": true
   },
   "outputs": [],
   "source": []
  }
 ],
 "metadata": {
  "kernelspec": {
   "display_name": "Python 3",
   "language": "python",
   "name": "python3"
  },
  "language_info": {
   "codemirror_mode": {
    "name": "ipython",
    "version": 3
   },
   "file_extension": ".py",
   "mimetype": "text/x-python",
   "name": "python",
   "nbconvert_exporter": "python",
   "pygments_lexer": "ipython3",
   "version": "3.6.1"
  }
 },
 "nbformat": 4,
 "nbformat_minor": 2
}
